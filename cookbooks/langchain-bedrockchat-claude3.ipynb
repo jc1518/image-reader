{
 "cells": [
  {
   "cell_type": "code",
   "execution_count": 2,
   "id": "0a51d085-53ff-4615-8763-d5b2cdd30364",
   "metadata": {},
   "outputs": [],
   "source": [
    "!pip install boto3 --quiet\n",
    "!pip install langchain --quiet"
   ]
  },
  {
   "cell_type": "code",
   "execution_count": 3,
   "id": "8ab7348d-f031-44b4-89de-82b3b8c3a3ad",
   "metadata": {},
   "outputs": [],
   "source": [
    "import boto3\n",
    "from langchain_core.output_parsers import StrOutputParser\n",
    "from langchain_core.prompts import ChatPromptTemplate\n",
    "from langchain_community.chat_models import BedrockChat\n",
    "\n",
    "\n",
    "boto_session = boto3.Session(profile_name=\"sandbox\", region_name=\"us-west-2\")\n",
    "bedrock_runtime=boto_session.client(service_name=\"bedrock-runtime\")\n",
    "\n",
    "model_id = \"anthropic.claude-3-sonnet-20240229-v1:0\"\n",
    "\n",
    "model_kwargs =  { \n",
    "    \"max_tokens\": 2048,\n",
    "    # \"temperature\": 0.0,\n",
    "    # \"top_k\": 250,\n",
    "    # \"top_p\": 1,\n",
    "}\n",
    "\n",
    "model = BedrockChat(\n",
    "    client=bedrock_runtime,\n",
    "    model_id=model_id,\n",
    "    model_kwargs=model_kwargs,\n",
    ")"
   ]
  },
  {
   "cell_type": "code",
   "execution_count": 4,
   "id": "7e66f6c0-e711-4f6c-9948-ea1a41bacf7c",
   "metadata": {},
   "outputs": [],
   "source": [
    "import base64\n",
    "from pathlib import Path\n",
    "\n",
    "image_path = Path(\"../samples/Coles.png\")\n",
    "image_base64 = base64.b64encode(image_path.read_bytes()).decode(\"utf-8\")\n"
   ]
  },
  {
   "cell_type": "code",
   "execution_count": null,
   "id": "081c699c-f381-4b03-a627-2cf097b7c409",
   "metadata": {},
   "outputs": [
    {
     "data": {
      "text/plain": [
       "<matplotlib.image.AxesImage at 0x114c13250>"
      ]
     },
     "execution_count": 7,
     "metadata": {},
     "output_type": "execute_result"
    }
   ],
   "source": [
    "from PIL import Image\n",
    "import matplotlib.pyplot as plt\n",
    "\n",
    "image = Image.open(image_path)\n",
    "plt.imshow(image)"
   ]
  },
  {
   "cell_type": "code",
   "execution_count": 14,
   "id": "b2a82a8d-9094-41d8-a4e0-35dd2f791567",
   "metadata": {},
   "outputs": [
    {
     "name": "stdout",
     "output_type": "stream",
     "text": [
      "The image appears to be an advertisement or catalog page featuring various gluten-free food products. The page is predominantly red in color with the header \"Great value. Hands down. On Gluten Free\" prominently displayed.\n",
      "\n",
      "The products shown include gluten-free pastas, crackers, snacks, bread, breakfast items, and meat products like sausages and deli meats. Each product is accompanied by its name, description, price, and any discounts or special offers.\n",
      "\n",
      "Some of the brands featured are Weet-Bix, Coles Harvest Snaps, Jolly Time, Down South, Joyful, and Coles' own private label products. The prices range from around $1.50 for snack items to $18 for meat products.\n",
      "\n",
      "Overall, the image seems to be promoting a wide variety of gluten-free alternatives across different food categories at competitive prices, likely targeted towards consumers following a gluten-free diet."
     ]
    }
   ],
   "source": [
    "from langchain_core.prompts import (\n",
    "    ChatPromptTemplate,\n",
    "    HumanMessagePromptTemplate,\n",
    "    SystemMessagePromptTemplate\n",
    ")\n",
    "\n",
    "system_prompt = \"You are a helpful assistant.\"\n",
    "system_message_template = SystemMessagePromptTemplate.from_template(system_prompt)\n",
    "\n",
    "human_prompt = [\n",
    "            {\n",
    "                \"type\": \"image_url\",\n",
    "                \"image_url\": {\n",
    "                    \"url\": f\"data:image/png;base64,{img1_base64}\",\n",
    "                },\n",
    "            },\n",
    "            {   \n",
    "                \"type\": \"text\",\n",
    "                \"text\": \"{question}\"\n",
    "            },\n",
    "        ]\n",
    "\n",
    "human_message_template = HumanMessagePromptTemplate.from_template(human_prompt)\n",
    "\n",
    "prompt = ChatPromptTemplate.from_messages(\n",
    "    [\n",
    "        system_message_template,\n",
    "        human_message_template\n",
    "    ]\n",
    ")\n",
    "\n",
    "chain = prompt | model | StrOutputParser()\n",
    "\n",
    "# response = chain.invoke({\"question\": \"Describe the pictures\"})\n",
    "# print(response)\n",
    "\n",
    "for chunk in chain.stream({\"question\": \"Describe the picture\"}):\n",
    "    print(chunk, end=\"\", flush=True)\n"
   ]
  },
  {
   "cell_type": "code",
   "execution_count": null,
   "id": "0dbfa783-ee6b-4e33-bb44-13090ecefb9e",
   "metadata": {},
   "outputs": [],
   "source": []
  }
 ],
 "metadata": {
  "kernelspec": {
   "display_name": "Python 3 (ipykernel)",
   "language": "python",
   "name": "python3"
  },
  "language_info": {
   "codemirror_mode": {
    "name": "ipython",
    "version": 3
   },
   "file_extension": ".py",
   "mimetype": "text/x-python",
   "name": "python",
   "nbconvert_exporter": "python",
   "pygments_lexer": "ipython3",
   "version": "3.11.4"
  }
 },
 "nbformat": 4,
 "nbformat_minor": 5
}
